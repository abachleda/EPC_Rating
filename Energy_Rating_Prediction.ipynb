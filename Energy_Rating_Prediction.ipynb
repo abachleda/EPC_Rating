{
 "cells": [
  {
   "cell_type": "markdown",
   "id": "35ca959c-5015-4744-b287-ffd302b00944",
   "metadata": {},
   "source": [
    "# EPC RATING PROBLEM APPROACH\n",
    "This is a Classification problem and the available features in dataset are mix of numerical and categorical values. Therefore decision tree-based models are good to solve this. Decision trees are capable of handling both types of features without requiring extensive preprocessing, and they are convenient for datasets with mixed feature types."
   ]
  },
  {
   "cell_type": "markdown",
   "id": "a0b6796e-29fd-4d23-a82b-a3a0796f7518",
   "metadata": {},
   "source": [
    "# Load and clean the data"
   ]
  },
  {
   "cell_type": "code",
   "execution_count": 1,
   "id": "b0a62bb6-6c76-47f1-bc35-7bb4bcd0753d",
   "metadata": {},
   "outputs": [],
   "source": [
    "import pandas as pd\n",
    "import numpy as np"
   ]
  },
  {
   "cell_type": "markdown",
   "id": "45ed4789-3a19-4e77-af7c-4eda6f2b82e6",
   "metadata": {},
   "source": [
    "- Read the column metradata from csv"
   ]
  },
  {
   "cell_type": "code",
   "execution_count": 2,
   "id": "c8efb582-2c32-4be9-9325-fa71bac03d69",
   "metadata": {},
   "outputs": [],
   "source": [
    "columns_df = pd.read_csv('data/columns.csv')\n"
   ]
  },
  {
   "cell_type": "code",
   "execution_count": 3,
   "id": "cb910e93-efad-406b-8961-02a9756ddfb7",
   "metadata": {},
   "outputs": [
    {
     "data": {
      "text/html": [
       "<div>\n",
       "<style scoped>\n",
       "    .dataframe tbody tr th:only-of-type {\n",
       "        vertical-align: middle;\n",
       "    }\n",
       "\n",
       "    .dataframe tbody tr th {\n",
       "        vertical-align: top;\n",
       "    }\n",
       "\n",
       "    .dataframe thead th {\n",
       "        text-align: right;\n",
       "    }\n",
       "</style>\n",
       "<table border=\"1\" class=\"dataframe\">\n",
       "  <thead>\n",
       "    <tr style=\"text-align: right;\">\n",
       "      <th></th>\n",
       "      <th>filename</th>\n",
       "      <th>column</th>\n",
       "      <th>datatype</th>\n",
       "      <th>description</th>\n",
       "    </tr>\n",
       "  </thead>\n",
       "  <tbody>\n",
       "    <tr>\n",
       "      <th>count</th>\n",
       "      <td>99</td>\n",
       "      <td>99</td>\n",
       "      <td>99</td>\n",
       "      <td>99</td>\n",
       "    </tr>\n",
       "    <tr>\n",
       "      <th>unique</th>\n",
       "      <td>2</td>\n",
       "      <td>98</td>\n",
       "      <td>6</td>\n",
       "      <td>74</td>\n",
       "    </tr>\n",
       "    <tr>\n",
       "      <th>top</th>\n",
       "      <td>certificates.csv</td>\n",
       "      <td>LMK_KEY</td>\n",
       "      <td>string</td>\n",
       "      <td>Overall description of the property feature</td>\n",
       "    </tr>\n",
       "    <tr>\n",
       "      <th>freq</th>\n",
       "      <td>92</td>\n",
       "      <td>2</td>\n",
       "      <td>64</td>\n",
       "      <td>9</td>\n",
       "    </tr>\n",
       "  </tbody>\n",
       "</table>\n",
       "</div>"
      ],
      "text/plain": [
       "                filename   column datatype  \\\n",
       "count                 99       99       99   \n",
       "unique                 2       98        6   \n",
       "top     certificates.csv  LMK_KEY   string   \n",
       "freq                  92        2       64   \n",
       "\n",
       "                                        description  \n",
       "count                                            99  \n",
       "unique                                           74  \n",
       "top     Overall description of the property feature  \n",
       "freq                                              9  "
      ]
     },
     "execution_count": 3,
     "metadata": {},
     "output_type": "execute_result"
    }
   ],
   "source": [
    "columns_df.describe()"
   ]
  },
  {
   "cell_type": "markdown",
   "id": "b18ae980-1a39-4f3e-a13d-a28ba22ca84b",
   "metadata": {},
   "source": [
    "- Extract data types for certificates dataset "
   ]
  },
  {
   "cell_type": "code",
   "execution_count": 4,
   "id": "52a97a53-78de-4073-8764-56d905d00ddd",
   "metadata": {},
   "outputs": [],
   "source": [
    "columns_df_cert = columns_df.loc[columns_df['filename'] == 'certificates.csv']"
   ]
  },
  {
   "cell_type": "markdown",
   "id": "785e9ce6-3fb9-49b0-9107-caa1774e552a",
   "metadata": {},
   "source": [
    "- Extract timestamp related features "
   ]
  },
  {
   "cell_type": "code",
   "execution_count": 5,
   "id": "d32282a2-49b7-48f0-809f-2b49b8683148",
   "metadata": {},
   "outputs": [
    {
     "name": "stdout",
     "output_type": "stream",
     "text": [
      "['string' 'integer' 'date' 'float' 'decimal' 'datetime']\n"
     ]
    }
   ],
   "source": [
    "print(columns_df_cert.datatype.unique())"
   ]
  },
  {
   "cell_type": "markdown",
   "id": "5afd81fc-61fd-44fd-aeb2-8f420a4950ca",
   "metadata": {},
   "source": [
    "- Extract datetime columns "
   ]
  },
  {
   "cell_type": "code",
   "execution_count": 6,
   "id": "aaa342a2-5355-43a6-beff-e87c6f3c9070",
   "metadata": {},
   "outputs": [],
   "source": [
    "datetime_columns = columns_df['column'].loc[columns_df['datatype'].isin(['date','datetime'])].to_list()"
   ]
  },
  {
   "cell_type": "code",
   "execution_count": 7,
   "id": "1438181e-379d-4f8f-a0aa-1f6bdba1848e",
   "metadata": {},
   "outputs": [
    {
     "name": "stdout",
     "output_type": "stream",
     "text": [
      "['INSPECTION_DATE', 'LODGEMENT_DATE', 'LODGEMENT_DATETIME']\n"
     ]
    }
   ],
   "source": [
    "print(datetime_columns)"
   ]
  },
  {
   "cell_type": "markdown",
   "id": "d890a127-f6f9-4fe0-847f-fed05fda2654",
   "metadata": {},
   "source": [
    "- Change to dtypes suported by pandas"
   ]
  },
  {
   "cell_type": "code",
   "execution_count": 8,
   "id": "5aff60ed-06a1-4a33-9589-54045450712b",
   "metadata": {},
   "outputs": [],
   "source": [
    "columns_df_cert_updated = columns_df_cert.copy()"
   ]
  },
  {
   "cell_type": "code",
   "execution_count": 9,
   "id": "a8690e5f-89d1-4d88-b792-d9cece01217b",
   "metadata": {},
   "outputs": [],
   "source": [
    "replacements = {'string':'str', 'integer':'Int64', 'decimal': 'float'}"
   ]
  },
  {
   "cell_type": "code",
   "execution_count": 10,
   "id": "fb7680d5-133e-4b39-8529-67a81dadf6a0",
   "metadata": {},
   "outputs": [],
   "source": [
    "columns_df_cert_updated['datatype'] = columns_df_cert['datatype'].map(replacements).fillna(columns_df_cert_updated['datatype'])"
   ]
  },
  {
   "cell_type": "markdown",
   "id": "d024c442-2ff0-4d79-ac60-9897a3b27b22",
   "metadata": {},
   "source": [
    "- Create dictionary with data types for certificates data set "
   ]
  },
  {
   "cell_type": "code",
   "execution_count": 11,
   "id": "35e091b0-e0e4-4f24-83b1-218c2faed7fa",
   "metadata": {},
   "outputs": [],
   "source": [
    "dtype_cert = {row['column']:row['datatype'] for index, row in columns_df_cert_updated.iterrows() if row['datatype'] not in ['date', 'datetime']}"
   ]
  },
  {
   "cell_type": "markdown",
   "id": "4742af7b-2186-401e-a005-e337abbacf1b",
   "metadata": {},
   "source": [
    "- Load certificates dataset"
   ]
  },
  {
   "cell_type": "code",
   "execution_count": 12,
   "id": "f98c8305-1a4c-4de0-a682-811a35d95189",
   "metadata": {},
   "outputs": [],
   "source": [
    "certificates_df = pd.read_csv('data/certificates.csv', dtype=dtype_cert)"
   ]
  },
  {
   "cell_type": "markdown",
   "id": "0371adfe-f8a3-48c1-945f-763af6dcc4f9",
   "metadata": {},
   "source": [
    "- Extract missing data percentage per each column "
   ]
  },
  {
   "cell_type": "code",
   "execution_count": 13,
   "id": "b76cf356-6898-4d2c-923f-3fad484314f2",
   "metadata": {},
   "outputs": [],
   "source": [
    "missing_data_perc = certificates_df.isnull().sum() / certificates_df.shape[0] * 100"
   ]
  },
  {
   "cell_type": "code",
   "execution_count": 14,
   "id": "eb6b0f41-00ee-4770-bfb8-d7b6a418e0f6",
   "metadata": {},
   "outputs": [
    {
     "name": "stdout",
     "output_type": "stream",
     "text": [
      "LMK_KEY                            0.000000\n",
      "ADDRESS1                           0.000000\n",
      "ADDRESS2                          47.134941\n",
      "ADDRESS3                          88.717015\n",
      "POSTCODE                           0.000000\n",
      "BUILDING_REFERENCE_NUMBER          0.000000\n",
      "CURRENT_ENERGY_RATING              0.000000\n",
      "POTENTIAL_ENERGY_RATING            0.000000\n",
      "CURRENT_ENERGY_EFFICIENCY          0.000000\n",
      "POTENTIAL_ENERGY_EFFICIENCY        0.000000\n",
      "PROPERTY_TYPE                      0.000000\n",
      "BUILT_FORM                         0.023593\n",
      "INSPECTION_DATE                    0.000000\n",
      "LOCAL_AUTHORITY                    0.000000\n",
      "CONSTITUENCY                       0.005445\n",
      "COUNTY                            27.812126\n",
      "LODGEMENT_DATE                     0.000000\n",
      "TRANSACTION_TYPE                   0.000000\n",
      "ENVIRONMENT_IMPACT_CURRENT         0.000000\n",
      "ENVIRONMENT_IMPACT_POTENTIAL       0.000000\n",
      "ENERGY_CONSUMPTION_CURRENT         0.000000\n",
      "ENERGY_CONSUMPTION_POTENTIAL       0.001210\n",
      "CO2_EMISSIONS_CURRENT              0.000000\n",
      "CO2_EMISS_CURR_PER_FLOOR_AREA      0.000000\n",
      "CO2_EMISSIONS_POTENTIAL            0.000000\n",
      "LIGHTING_COST_CURRENT              0.001815\n",
      "LIGHTING_COST_POTENTIAL            0.001815\n",
      "HEATING_COST_CURRENT               0.001815\n",
      "HEATING_COST_POTENTIAL             0.001815\n",
      "HOT_WATER_COST_CURRENT             0.001815\n",
      "HOT_WATER_COST_POTENTIAL           0.001815\n",
      "TOTAL_FLOOR_AREA                   0.000000\n",
      "ENERGY_TARIFF                      0.004840\n",
      "MAINS_GAS_FLAG                    14.370062\n",
      "FLOOR_LEVEL                       10.031942\n",
      "FLAT_TOP_STOREY                   45.736289\n",
      "FLAT_STOREY_COUNT                 89.734546\n",
      "MAIN_HEATING_CONTROLS             37.468391\n",
      "MULTI_GLAZE_PROPORTION            10.266058\n",
      "GLAZED_TYPE                        4.387727\n",
      "GLAZED_AREA                        4.387727\n",
      "EXTENSION_COUNT                   14.189786\n",
      "NUMBER_HABITABLE_ROOMS            14.189786\n",
      "NUMBER_HEATED_ROOMS               14.189786\n",
      "LOW_ENERGY_LIGHTING                4.779736\n",
      "NUMBER_OPEN_FIREPLACES             2.333305\n",
      "HOTWATER_DESCRIPTION               0.000000\n",
      "HOT_WATER_ENERGY_EFF               0.248636\n",
      "HOT_WATER_ENV_EFF                  0.250451\n",
      "FLOOR_DESCRIPTION                  0.000000\n",
      "FLOOR_ENERGY_EFF                  68.308913\n",
      "FLOOR_ENV_EFF                     94.482825\n",
      "WINDOWS_DESCRIPTION                0.020568\n",
      "WINDOWS_ENERGY_EFF                 0.151238\n",
      "WINDOWS_ENV_EFF                    0.151238\n",
      "WALLS_DESCRIPTION                  0.002420\n",
      "WALLS_ENERGY_EFF                   0.150633\n",
      "WALLS_ENV_EFF                      0.150633\n",
      "SECONDHEAT_DESCRIPTION            83.869524\n",
      "SHEATING_ENERGY_EFF              100.000000\n",
      "SHEATING_ENV_EFF                 100.000000\n",
      "ROOF_DESCRIPTION                   0.009679\n",
      "ROOF_ENERGY_EFF                   37.596641\n",
      "ROOF_ENV_EFF                      37.596641\n",
      "MAINHEAT_DESCRIPTION               0.000000\n",
      "MAINHEAT_ENERGY_EFF                0.240166\n",
      "MAINHEAT_ENV_EFF                   0.241981\n",
      "MAINHEATCONT_DESCRIPTION           0.358737\n",
      "MAINHEATC_ENERGY_EFF               0.238957\n",
      "MAINHEATC_ENV_EFF                  0.238957\n",
      "LIGHTING_DESCRIPTION               0.000000\n",
      "LIGHTING_ENERGY_EFF                0.166362\n",
      "LIGHTING_ENV_EFF                   0.147004\n",
      "MAIN_FUEL                          2.248007\n",
      "WIND_TURBINE_COUNT                 7.379221\n",
      "HEAT_LOSS_CORRIDOR                14.013140\n",
      "UNHEATED_CORRIDOR_LENGTH          71.331260\n",
      "FLOOR_HEIGHT                      47.797365\n",
      "PHOTO_SUPPLY                      40.412699\n",
      "SOLAR_WATER_HEATING_FLAG          33.625123\n",
      "MECHANICAL_VENTILATION             4.387727\n",
      "ADDRESS                            0.000000\n",
      "LOCAL_AUTHORITY_LABEL              0.000000\n",
      "CONSTITUENCY_LABEL                 0.005445\n",
      "POSTTOWN                           1.757994\n",
      "CONSTRUCTION_AGE_BAND              1.250439\n",
      "LODGEMENT_DATETIME                 0.000000\n",
      "TENURE                             2.389566\n",
      "FIXED_LIGHTING_OUTLETS_COUNT      43.378785\n",
      "LOW_ENERGY_FIXED_LIGHT_COUNT      67.816481\n",
      "UPRN                               4.445802\n",
      "UPRN_SOURCE                        4.445802\n"
     ]
    }
   ],
   "source": [
    "print(missing_data_perc.to_string())"
   ]
  },
  {
   "cell_type": "markdown",
   "id": "12a965cb-4f4a-478f-88ef-738588415fea",
   "metadata": {},
   "source": [
    "- Ignore feature columns with more than 10 % missing data "
   ]
  },
  {
   "cell_type": "code",
   "execution_count": 15,
   "id": "428d9524-910f-4263-9801-a8b09a222134",
   "metadata": {},
   "outputs": [],
   "source": [
    "large_gaps_data = missing_data_perc.loc[missing_data_perc >10].index.to_list()"
   ]
  },
  {
   "cell_type": "code",
   "execution_count": 16,
   "id": "71fa0675-61aa-4537-9a52-6e6e476e39a8",
   "metadata": {},
   "outputs": [],
   "source": [
    "data_df = certificates_df.drop(large_gaps_data, axis=1)"
   ]
  },
  {
   "cell_type": "markdown",
   "id": "82c4edf3-37d9-4803-836f-fcbecd858be3",
   "metadata": {},
   "source": [
    "- Drop date or datetime columns from data df as these columns are not related to building properties"
   ]
  },
  {
   "cell_type": "code",
   "execution_count": 17,
   "id": "6c21ff69-b66f-46b5-aed0-0c9477b2210e",
   "metadata": {},
   "outputs": [],
   "source": [
    "data_df = data_df.drop(datetime_columns, axis=1)"
   ]
  },
  {
   "cell_type": "markdown",
   "id": "d77891bc-7d63-421c-8739-e3c6c7b1a519",
   "metadata": {},
   "source": [
    "- Drop columns linked to potential certificate rating"
   ]
  },
  {
   "cell_type": "code",
   "execution_count": 18,
   "id": "bc51bff3-8857-4435-8e4a-bb39034f3729",
   "metadata": {},
   "outputs": [],
   "source": [
    "data_df = data_df.drop(data_df.filter(regex='POTENTIAL').columns.to_list(), axis=1)"
   ]
  },
  {
   "cell_type": "markdown",
   "id": "e171c4f2-6e50-4e0f-87ed-9b50c89aafaa",
   "metadata": {},
   "source": [
    "- Drop high-cardinality categorical variables "
   ]
  },
  {
   "cell_type": "code",
   "execution_count": 19,
   "id": "3a66aa11-9518-435e-9165-18394624058d",
   "metadata": {},
   "outputs": [],
   "source": [
    "high_cardinality_col = [x for x in data_df.columns if data_df.shape[0]/len(data_df[x].unique()) < 5]"
   ]
  },
  {
   "cell_type": "code",
   "execution_count": 20,
   "id": "5a605823-b64b-46cd-87aa-031a9756c578",
   "metadata": {},
   "outputs": [],
   "source": [
    "data_df = data_df.drop(high_cardinality_col, axis=1)"
   ]
  },
  {
   "cell_type": "markdown",
   "id": "28f84e29-5d92-4db8-ac88-cb23e34b8635",
   "metadata": {},
   "source": [
    "- Drop single category columns"
   ]
  },
  {
   "cell_type": "code",
   "execution_count": 21,
   "id": "3f86395b-219e-4e81-a5e1-0a932631438c",
   "metadata": {},
   "outputs": [],
   "source": [
    "single_category_col = [x for x in data_df.columns if len(data_df[x].unique())==1]"
   ]
  },
  {
   "cell_type": "code",
   "execution_count": 22,
   "id": "d3927f91-c0d9-4641-bff9-baf9123eef5c",
   "metadata": {},
   "outputs": [],
   "source": [
    "data_df = data_df.drop(single_category_col, axis=1)"
   ]
  },
  {
   "cell_type": "code",
   "execution_count": 23,
   "id": "b7f7b25f-3634-4153-ba45-9aa91f147a9d",
   "metadata": {},
   "outputs": [
    {
     "name": "stdout",
     "output_type": "stream",
     "text": [
      "Index(['POSTCODE', 'CURRENT_ENERGY_RATING', 'CURRENT_ENERGY_EFFICIENCY',\n",
      "       'PROPERTY_TYPE', 'BUILT_FORM', 'CONSTITUENCY', 'TRANSACTION_TYPE',\n",
      "       'ENVIRONMENT_IMPACT_CURRENT', 'ENERGY_CONSUMPTION_CURRENT',\n",
      "       'CO2_EMISSIONS_CURRENT', 'CO2_EMISS_CURR_PER_FLOOR_AREA',\n",
      "       'LIGHTING_COST_CURRENT', 'HEATING_COST_CURRENT',\n",
      "       'HOT_WATER_COST_CURRENT', 'TOTAL_FLOOR_AREA', 'ENERGY_TARIFF',\n",
      "       'GLAZED_TYPE', 'GLAZED_AREA', 'LOW_ENERGY_LIGHTING',\n",
      "       'NUMBER_OPEN_FIREPLACES', 'HOTWATER_DESCRIPTION',\n",
      "       'HOT_WATER_ENERGY_EFF', 'HOT_WATER_ENV_EFF', 'FLOOR_DESCRIPTION',\n",
      "       'WINDOWS_DESCRIPTION', 'WINDOWS_ENERGY_EFF', 'WINDOWS_ENV_EFF',\n",
      "       'WALLS_DESCRIPTION', 'WALLS_ENERGY_EFF', 'WALLS_ENV_EFF',\n",
      "       'ROOF_DESCRIPTION', 'MAINHEAT_DESCRIPTION', 'MAINHEAT_ENERGY_EFF',\n",
      "       'MAINHEAT_ENV_EFF', 'MAINHEATCONT_DESCRIPTION', 'MAINHEATC_ENERGY_EFF',\n",
      "       'MAINHEATC_ENV_EFF', 'LIGHTING_DESCRIPTION', 'LIGHTING_ENERGY_EFF',\n",
      "       'LIGHTING_ENV_EFF', 'MAIN_FUEL', 'WIND_TURBINE_COUNT',\n",
      "       'MECHANICAL_VENTILATION', 'CONSTITUENCY_LABEL', 'POSTTOWN',\n",
      "       'CONSTRUCTION_AGE_BAND', 'TENURE', 'UPRN_SOURCE'],\n",
      "      dtype='object')\n"
     ]
    }
   ],
   "source": [
    "print(data_df.columns)"
   ]
  },
  {
   "cell_type": "markdown",
   "id": "d386f1b0-b00d-4aef-a902-5dd1a36eea38",
   "metadata": {},
   "source": [
    "- Drop features which are related to the certificates not to building properties "
   ]
  },
  {
   "cell_type": "code",
   "execution_count": 24,
   "id": "b94e400a-ccd4-437c-aaa5-27baaf6eddcd",
   "metadata": {},
   "outputs": [],
   "source": [
    "data_df = data_df.drop(['UPRN_SOURCE', 'TRANSACTION_TYPE'], axis=1)"
   ]
  },
  {
   "cell_type": "markdown",
   "id": "7b80c9cd-f692-44d5-8b94-26f1f1380093",
   "metadata": {},
   "source": [
    "- Clear the description features in dataset by ignoring special characters"
   ]
  },
  {
   "cell_type": "code",
   "execution_count": 25,
   "id": "699bfeea-b88f-4d3d-ba1e-00099686e73b",
   "metadata": {},
   "outputs": [],
   "source": [
    "pattern = r'[^a-zA-Z0-9\\s+\\.]'"
   ]
  },
  {
   "cell_type": "code",
   "execution_count": 26,
   "id": "a8b05002-d409-425d-8533-08f3beb122b8",
   "metadata": {},
   "outputs": [],
   "source": [
    "data_df['FLOOR_DESCRIPTION'] = data_df['FLOOR_DESCRIPTION'].replace(pattern, '', regex=True)"
   ]
  },
  {
   "cell_type": "code",
   "execution_count": 27,
   "id": "47bc7851-3484-49b1-9053-71e8754170e6",
   "metadata": {},
   "outputs": [],
   "source": [
    "data_df['HOTWATER_DESCRIPTION'] = data_df['HOTWATER_DESCRIPTION'].replace(pattern, '', regex=True)"
   ]
  },
  {
   "cell_type": "code",
   "execution_count": 28,
   "id": "fec64a66-a84b-4f87-bc16-eae3006b2bc5",
   "metadata": {},
   "outputs": [],
   "source": [
    "data_df['WINDOWS_DESCRIPTION'] = data_df['WINDOWS_DESCRIPTION'].replace(pattern, '', regex=True)"
   ]
  },
  {
   "cell_type": "code",
   "execution_count": 29,
   "id": "3e20b214-a2d9-455c-9a05-6db773190db0",
   "metadata": {},
   "outputs": [],
   "source": [
    "data_df['WALLS_DESCRIPTION'] = data_df['WALLS_DESCRIPTION'].replace(pattern, '', regex=True)"
   ]
  },
  {
   "cell_type": "code",
   "execution_count": 30,
   "id": "3b88e286-ee63-41a0-b8b7-c4befa944898",
   "metadata": {},
   "outputs": [],
   "source": [
    "data_df['ROOF_DESCRIPTION'] = data_df['ROOF_DESCRIPTION'].replace(pattern, '', regex=True)"
   ]
  },
  {
   "cell_type": "code",
   "execution_count": 31,
   "id": "c9dad339-2b86-484f-b4ee-ed60c8589a15",
   "metadata": {},
   "outputs": [],
   "source": [
    "data_df['MAINHEAT_DESCRIPTION'] = data_df['MAINHEAT_DESCRIPTION'].replace(pattern, '', regex=True)"
   ]
  },
  {
   "cell_type": "code",
   "execution_count": 32,
   "id": "901afdc8-fc07-422e-a358-6629aad035b9",
   "metadata": {},
   "outputs": [],
   "source": [
    "data_df['LIGHTING_DESCRIPTION'] = data_df['LIGHTING_DESCRIPTION'].replace(pattern, '', regex=True)"
   ]
  },
  {
   "cell_type": "code",
   "execution_count": 33,
   "id": "e4b6a50d-a82e-4f88-bfd7-838d704b9628",
   "metadata": {},
   "outputs": [
    {
     "name": "stdout",
     "output_type": "stream",
     "text": [
      "Index(['POSTCODE', 'CURRENT_ENERGY_RATING', 'CURRENT_ENERGY_EFFICIENCY',\n",
      "       'PROPERTY_TYPE', 'BUILT_FORM', 'CONSTITUENCY',\n",
      "       'ENVIRONMENT_IMPACT_CURRENT', 'ENERGY_CONSUMPTION_CURRENT',\n",
      "       'CO2_EMISSIONS_CURRENT', 'CO2_EMISS_CURR_PER_FLOOR_AREA',\n",
      "       'LIGHTING_COST_CURRENT', 'HEATING_COST_CURRENT',\n",
      "       'HOT_WATER_COST_CURRENT', 'TOTAL_FLOOR_AREA', 'ENERGY_TARIFF',\n",
      "       'GLAZED_TYPE', 'GLAZED_AREA', 'LOW_ENERGY_LIGHTING',\n",
      "       'NUMBER_OPEN_FIREPLACES', 'HOTWATER_DESCRIPTION',\n",
      "       'HOT_WATER_ENERGY_EFF', 'HOT_WATER_ENV_EFF', 'FLOOR_DESCRIPTION',\n",
      "       'WINDOWS_DESCRIPTION', 'WINDOWS_ENERGY_EFF', 'WINDOWS_ENV_EFF',\n",
      "       'WALLS_DESCRIPTION', 'WALLS_ENERGY_EFF', 'WALLS_ENV_EFF',\n",
      "       'ROOF_DESCRIPTION', 'MAINHEAT_DESCRIPTION', 'MAINHEAT_ENERGY_EFF',\n",
      "       'MAINHEAT_ENV_EFF', 'MAINHEATCONT_DESCRIPTION', 'MAINHEATC_ENERGY_EFF',\n",
      "       'MAINHEATC_ENV_EFF', 'LIGHTING_DESCRIPTION', 'LIGHTING_ENERGY_EFF',\n",
      "       'LIGHTING_ENV_EFF', 'MAIN_FUEL', 'WIND_TURBINE_COUNT',\n",
      "       'MECHANICAL_VENTILATION', 'CONSTITUENCY_LABEL', 'POSTTOWN',\n",
      "       'CONSTRUCTION_AGE_BAND', 'TENURE'],\n",
      "      dtype='object')\n"
     ]
    }
   ],
   "source": [
    "print(data_df.columns)"
   ]
  },
  {
   "cell_type": "markdown",
   "id": "c98c6a8f-98fa-4cd7-aeea-ff5a5257bc1e",
   "metadata": {},
   "source": [
    "# Building and training of the prediction model"
   ]
  },
  {
   "cell_type": "code",
   "execution_count": 34,
   "id": "2831ed77-b7a6-46f7-a0dd-088365f6ad86",
   "metadata": {},
   "outputs": [],
   "source": [
    "from sklearn.model_selection import train_test_split\n",
    "from sklearn.ensemble import GradientBoostingClassifier\n",
    "from sklearn.preprocessing import OneHotEncoder, MinMaxScaler\n",
    "from sklearn.model_selection import cross_val_predict\n",
    "from sklearn.pipeline import Pipeline\n",
    "from sklearn.compose import ColumnTransformer\n",
    "from sklearn.metrics import accuracy_score"
   ]
  },
  {
   "cell_type": "markdown",
   "id": "e2b78a13-259c-4668-9ba6-7893cdfeb8f0",
   "metadata": {},
   "source": [
    "- Drop nan valueas ac gbc model does not accept it "
   ]
  },
  {
   "cell_type": "code",
   "execution_count": 35,
   "id": "ef7cecbc-c3fb-4f46-ac7a-e6cb44c8cebd",
   "metadata": {},
   "outputs": [],
   "source": [
    "data_df = data_df.dropna()"
   ]
  },
  {
   "cell_type": "markdown",
   "id": "87fc909a-9602-4e9b-8737-053270bbea1c",
   "metadata": {},
   "source": [
    "- Choose featureas as building geometry location and characteristics that could be supplied from different sources than EPC"
   ]
  },
  {
   "cell_type": "code",
   "execution_count": 36,
   "id": "aebaf6ef-1941-405f-84ca-5e65047a34ac",
   "metadata": {},
   "outputs": [],
   "source": [
    "features = data_df[[\"POSTCODE\", \"PROPERTY_TYPE\", \"CONSTITUENCY\", \"ENERGY_CONSUMPTION_CURRENT\",\n",
    "                    \"LIGHTING_COST_CURRENT\", \"HEATING_COST_CURRENT\", \"TOTAL_FLOOR_AREA\", \n",
    "                    \"HOT_WATER_COST_CURRENT\", \"ENERGY_TARIFF\", \"GLAZED_TYPE\", \"GLAZED_AREA\",\n",
    "                    \"LOW_ENERGY_LIGHTING\", \"NUMBER_OPEN_FIREPLACES\", \"HOTWATER_DESCRIPTION\",\n",
    "                    \"FLOOR_DESCRIPTION\",\"WINDOWS_DESCRIPTION\", \"WALLS_DESCRIPTION\", \"ROOF_DESCRIPTION\", \n",
    "                    \"MAINHEAT_DESCRIPTION\", \"MAINHEATCONT_DESCRIPTION\", \"LIGHTING_DESCRIPTION\",\n",
    "                    \"MAIN_FUEL\", \"WIND_TURBINE_COUNT\", \"MECHANICAL_VENTILATION\",\n",
    "                    \"CONSTITUENCY_LABEL\", \"POSTTOWN\", \"CONSTRUCTION_AGE_BAND\", \"TENURE\"]]"
   ]
  },
  {
   "cell_type": "code",
   "execution_count": 37,
   "id": "3bc5951d-77ba-43cc-a9d2-d4b83a0fc547",
   "metadata": {},
   "outputs": [],
   "source": [
    "target = data_df['CURRENT_ENERGY_RATING'].to_list()"
   ]
  },
  {
   "cell_type": "markdown",
   "id": "0b065bfa-19db-4f4a-9c1e-e80cb5eb1449",
   "metadata": {},
   "source": [
    "- Split data to training and test data sets"
   ]
  },
  {
   "cell_type": "code",
   "execution_count": 38,
   "id": "a0ce415e-8d34-495c-8de5-e0321d9e3436",
   "metadata": {},
   "outputs": [],
   "source": [
    "X_train, X_test, y_train, y_test = train_test_split(features, target, test_size=0.2, random_state=42, stratify=target)"
   ]
  },
  {
   "cell_type": "markdown",
   "id": "af336d38-ce2a-4d0a-8cfe-827ac12bf65b",
   "metadata": {},
   "source": [
    "- Split features for numerical and categorical"
   ]
  },
  {
   "cell_type": "code",
   "execution_count": 39,
   "id": "bbc567c3-229f-4b70-83d7-5ba676e8c7a0",
   "metadata": {},
   "outputs": [],
   "source": [
    "numeric_features = X_train.select_dtypes(include=['int64', 'float64']).columns.to_list()\n",
    "categorical_features = X_train.select_dtypes(include=['object']).columns.to_list()"
   ]
  },
  {
   "cell_type": "markdown",
   "id": "b4f7b145-0fca-43e4-8e32-6fa1998be538",
   "metadata": {},
   "source": [
    "- Define categorical features transformer to turn strings to numerical data"
   ]
  },
  {
   "cell_type": "code",
   "execution_count": 40,
   "id": "0612b364-5711-41a4-a6e8-742b29ea87b1",
   "metadata": {},
   "outputs": [],
   "source": [
    "categorical_transformer = Pipeline(steps=[\n",
    "    ('onehot', OneHotEncoder(handle_unknown='ignore'))])"
   ]
  },
  {
   "cell_type": "markdown",
   "id": "a652324f-8d96-4a02-a025-873ea30e7d18",
   "metadata": {},
   "source": [
    "- Define numerical features transformer to rescale variables into the range [0,1]"
   ]
  },
  {
   "cell_type": "code",
   "execution_count": 41,
   "id": "b77f2915-dc58-44b8-b463-af619da48d8a",
   "metadata": {},
   "outputs": [],
   "source": [
    "numerical_transformer = Pipeline(steps=[\n",
    "    ('minmax', MinMaxScaler())])"
   ]
  },
  {
   "cell_type": "markdown",
   "id": "c77f2166-f15f-463d-89d4-53a052b9a997",
   "metadata": {},
   "source": [
    "- Apply transformers to numerical and categorical features"
   ]
  },
  {
   "cell_type": "code",
   "execution_count": 42,
   "id": "b48264d8-98b5-49c6-9982-ec671e81f4f0",
   "metadata": {},
   "outputs": [],
   "source": [
    "preprocessor = ColumnTransformer(\n",
    "    transformers=[\n",
    "        ('num', 'passthrough', numeric_features),\n",
    "        ('cat', categorical_transformer, categorical_features)])"
   ]
  },
  {
   "cell_type": "markdown",
   "id": "cb5bb777-1eda-46d8-adcf-665143106c48",
   "metadata": {},
   "source": [
    "- Define Gradient Boosting Classifier"
   ]
  },
  {
   "cell_type": "code",
   "execution_count": 43,
   "id": "7165c1f6-b52f-4fd9-bd3a-f6e393b92e70",
   "metadata": {},
   "outputs": [],
   "source": [
    "gb_classifier = GradientBoostingClassifier(n_estimators=100, random_state=42)"
   ]
  },
  {
   "cell_type": "markdown",
   "id": "0068331e-80c0-40d2-a44e-e62de5b6ae2e",
   "metadata": {},
   "source": [
    "- Create a pipeline combining preprocessing and model"
   ]
  },
  {
   "cell_type": "code",
   "execution_count": 44,
   "id": "e746e4f8-182a-492f-8be1-df6713c0ab1b",
   "metadata": {},
   "outputs": [],
   "source": [
    "pipeline = Pipeline(steps=[('preprocessor', preprocessor),\n",
    "                           ('classifier', gb_classifier)])\n"
   ]
  },
  {
   "cell_type": "markdown",
   "id": "d63c60be-8d4f-4acc-be46-443582a645ed",
   "metadata": {},
   "source": [
    "- Train the model"
   ]
  },
  {
   "cell_type": "code",
   "execution_count": 45,
   "id": "bb7a03ee-4a88-4863-ae65-25c627db1d32",
   "metadata": {},
   "outputs": [
    {
     "data": {
      "text/html": [
       "<style>#sk-container-id-1 {\n",
       "  /* Definition of color scheme common for light and dark mode */\n",
       "  --sklearn-color-text: black;\n",
       "  --sklearn-color-line: gray;\n",
       "  /* Definition of color scheme for unfitted estimators */\n",
       "  --sklearn-color-unfitted-level-0: #fff5e6;\n",
       "  --sklearn-color-unfitted-level-1: #f6e4d2;\n",
       "  --sklearn-color-unfitted-level-2: #ffe0b3;\n",
       "  --sklearn-color-unfitted-level-3: chocolate;\n",
       "  /* Definition of color scheme for fitted estimators */\n",
       "  --sklearn-color-fitted-level-0: #f0f8ff;\n",
       "  --sklearn-color-fitted-level-1: #d4ebff;\n",
       "  --sklearn-color-fitted-level-2: #b3dbfd;\n",
       "  --sklearn-color-fitted-level-3: cornflowerblue;\n",
       "\n",
       "  /* Specific color for light theme */\n",
       "  --sklearn-color-text-on-default-background: var(--sg-text-color, var(--theme-code-foreground, var(--jp-content-font-color1, black)));\n",
       "  --sklearn-color-background: var(--sg-background-color, var(--theme-background, var(--jp-layout-color0, white)));\n",
       "  --sklearn-color-border-box: var(--sg-text-color, var(--theme-code-foreground, var(--jp-content-font-color1, black)));\n",
       "  --sklearn-color-icon: #696969;\n",
       "\n",
       "  @media (prefers-color-scheme: dark) {\n",
       "    /* Redefinition of color scheme for dark theme */\n",
       "    --sklearn-color-text-on-default-background: var(--sg-text-color, var(--theme-code-foreground, var(--jp-content-font-color1, white)));\n",
       "    --sklearn-color-background: var(--sg-background-color, var(--theme-background, var(--jp-layout-color0, #111)));\n",
       "    --sklearn-color-border-box: var(--sg-text-color, var(--theme-code-foreground, var(--jp-content-font-color1, white)));\n",
       "    --sklearn-color-icon: #878787;\n",
       "  }\n",
       "}\n",
       "\n",
       "#sk-container-id-1 {\n",
       "  color: var(--sklearn-color-text);\n",
       "}\n",
       "\n",
       "#sk-container-id-1 pre {\n",
       "  padding: 0;\n",
       "}\n",
       "\n",
       "#sk-container-id-1 input.sk-hidden--visually {\n",
       "  border: 0;\n",
       "  clip: rect(1px 1px 1px 1px);\n",
       "  clip: rect(1px, 1px, 1px, 1px);\n",
       "  height: 1px;\n",
       "  margin: -1px;\n",
       "  overflow: hidden;\n",
       "  padding: 0;\n",
       "  position: absolute;\n",
       "  width: 1px;\n",
       "}\n",
       "\n",
       "#sk-container-id-1 div.sk-dashed-wrapped {\n",
       "  border: 1px dashed var(--sklearn-color-line);\n",
       "  margin: 0 0.4em 0.5em 0.4em;\n",
       "  box-sizing: border-box;\n",
       "  padding-bottom: 0.4em;\n",
       "  background-color: var(--sklearn-color-background);\n",
       "}\n",
       "\n",
       "#sk-container-id-1 div.sk-container {\n",
       "  /* jupyter's `normalize.less` sets `[hidden] { display: none; }`\n",
       "     but bootstrap.min.css set `[hidden] { display: none !important; }`\n",
       "     so we also need the `!important` here to be able to override the\n",
       "     default hidden behavior on the sphinx rendered scikit-learn.org.\n",
       "     See: https://github.com/scikit-learn/scikit-learn/issues/21755 */\n",
       "  display: inline-block !important;\n",
       "  position: relative;\n",
       "}\n",
       "\n",
       "#sk-container-id-1 div.sk-text-repr-fallback {\n",
       "  display: none;\n",
       "}\n",
       "\n",
       "div.sk-parallel-item,\n",
       "div.sk-serial,\n",
       "div.sk-item {\n",
       "  /* draw centered vertical line to link estimators */\n",
       "  background-image: linear-gradient(var(--sklearn-color-text-on-default-background), var(--sklearn-color-text-on-default-background));\n",
       "  background-size: 2px 100%;\n",
       "  background-repeat: no-repeat;\n",
       "  background-position: center center;\n",
       "}\n",
       "\n",
       "/* Parallel-specific style estimator block */\n",
       "\n",
       "#sk-container-id-1 div.sk-parallel-item::after {\n",
       "  content: \"\";\n",
       "  width: 100%;\n",
       "  border-bottom: 2px solid var(--sklearn-color-text-on-default-background);\n",
       "  flex-grow: 1;\n",
       "}\n",
       "\n",
       "#sk-container-id-1 div.sk-parallel {\n",
       "  display: flex;\n",
       "  align-items: stretch;\n",
       "  justify-content: center;\n",
       "  background-color: var(--sklearn-color-background);\n",
       "  position: relative;\n",
       "}\n",
       "\n",
       "#sk-container-id-1 div.sk-parallel-item {\n",
       "  display: flex;\n",
       "  flex-direction: column;\n",
       "}\n",
       "\n",
       "#sk-container-id-1 div.sk-parallel-item:first-child::after {\n",
       "  align-self: flex-end;\n",
       "  width: 50%;\n",
       "}\n",
       "\n",
       "#sk-container-id-1 div.sk-parallel-item:last-child::after {\n",
       "  align-self: flex-start;\n",
       "  width: 50%;\n",
       "}\n",
       "\n",
       "#sk-container-id-1 div.sk-parallel-item:only-child::after {\n",
       "  width: 0;\n",
       "}\n",
       "\n",
       "/* Serial-specific style estimator block */\n",
       "\n",
       "#sk-container-id-1 div.sk-serial {\n",
       "  display: flex;\n",
       "  flex-direction: column;\n",
       "  align-items: center;\n",
       "  background-color: var(--sklearn-color-background);\n",
       "  padding-right: 1em;\n",
       "  padding-left: 1em;\n",
       "}\n",
       "\n",
       "\n",
       "/* Toggleable style: style used for estimator/Pipeline/ColumnTransformer box that is\n",
       "clickable and can be expanded/collapsed.\n",
       "- Pipeline and ColumnTransformer use this feature and define the default style\n",
       "- Estimators will overwrite some part of the style using the `sk-estimator` class\n",
       "*/\n",
       "\n",
       "/* Pipeline and ColumnTransformer style (default) */\n",
       "\n",
       "#sk-container-id-1 div.sk-toggleable {\n",
       "  /* Default theme specific background. It is overwritten whether we have a\n",
       "  specific estimator or a Pipeline/ColumnTransformer */\n",
       "  background-color: var(--sklearn-color-background);\n",
       "}\n",
       "\n",
       "/* Toggleable label */\n",
       "#sk-container-id-1 label.sk-toggleable__label {\n",
       "  cursor: pointer;\n",
       "  display: block;\n",
       "  width: 100%;\n",
       "  margin-bottom: 0;\n",
       "  padding: 0.5em;\n",
       "  box-sizing: border-box;\n",
       "  text-align: center;\n",
       "}\n",
       "\n",
       "#sk-container-id-1 label.sk-toggleable__label-arrow:before {\n",
       "  /* Arrow on the left of the label */\n",
       "  content: \"▸\";\n",
       "  float: left;\n",
       "  margin-right: 0.25em;\n",
       "  color: var(--sklearn-color-icon);\n",
       "}\n",
       "\n",
       "#sk-container-id-1 label.sk-toggleable__label-arrow:hover:before {\n",
       "  color: var(--sklearn-color-text);\n",
       "}\n",
       "\n",
       "/* Toggleable content - dropdown */\n",
       "\n",
       "#sk-container-id-1 div.sk-toggleable__content {\n",
       "  max-height: 0;\n",
       "  max-width: 0;\n",
       "  overflow: hidden;\n",
       "  text-align: left;\n",
       "  /* unfitted */\n",
       "  background-color: var(--sklearn-color-unfitted-level-0);\n",
       "}\n",
       "\n",
       "#sk-container-id-1 div.sk-toggleable__content.fitted {\n",
       "  /* fitted */\n",
       "  background-color: var(--sklearn-color-fitted-level-0);\n",
       "}\n",
       "\n",
       "#sk-container-id-1 div.sk-toggleable__content pre {\n",
       "  margin: 0.2em;\n",
       "  border-radius: 0.25em;\n",
       "  color: var(--sklearn-color-text);\n",
       "  /* unfitted */\n",
       "  background-color: var(--sklearn-color-unfitted-level-0);\n",
       "}\n",
       "\n",
       "#sk-container-id-1 div.sk-toggleable__content.fitted pre {\n",
       "  /* unfitted */\n",
       "  background-color: var(--sklearn-color-fitted-level-0);\n",
       "}\n",
       "\n",
       "#sk-container-id-1 input.sk-toggleable__control:checked~div.sk-toggleable__content {\n",
       "  /* Expand drop-down */\n",
       "  max-height: 200px;\n",
       "  max-width: 100%;\n",
       "  overflow: auto;\n",
       "}\n",
       "\n",
       "#sk-container-id-1 input.sk-toggleable__control:checked~label.sk-toggleable__label-arrow:before {\n",
       "  content: \"▾\";\n",
       "}\n",
       "\n",
       "/* Pipeline/ColumnTransformer-specific style */\n",
       "\n",
       "#sk-container-id-1 div.sk-label input.sk-toggleable__control:checked~label.sk-toggleable__label {\n",
       "  color: var(--sklearn-color-text);\n",
       "  background-color: var(--sklearn-color-unfitted-level-2);\n",
       "}\n",
       "\n",
       "#sk-container-id-1 div.sk-label.fitted input.sk-toggleable__control:checked~label.sk-toggleable__label {\n",
       "  background-color: var(--sklearn-color-fitted-level-2);\n",
       "}\n",
       "\n",
       "/* Estimator-specific style */\n",
       "\n",
       "/* Colorize estimator box */\n",
       "#sk-container-id-1 div.sk-estimator input.sk-toggleable__control:checked~label.sk-toggleable__label {\n",
       "  /* unfitted */\n",
       "  background-color: var(--sklearn-color-unfitted-level-2);\n",
       "}\n",
       "\n",
       "#sk-container-id-1 div.sk-estimator.fitted input.sk-toggleable__control:checked~label.sk-toggleable__label {\n",
       "  /* fitted */\n",
       "  background-color: var(--sklearn-color-fitted-level-2);\n",
       "}\n",
       "\n",
       "#sk-container-id-1 div.sk-label label.sk-toggleable__label,\n",
       "#sk-container-id-1 div.sk-label label {\n",
       "  /* The background is the default theme color */\n",
       "  color: var(--sklearn-color-text-on-default-background);\n",
       "}\n",
       "\n",
       "/* On hover, darken the color of the background */\n",
       "#sk-container-id-1 div.sk-label:hover label.sk-toggleable__label {\n",
       "  color: var(--sklearn-color-text);\n",
       "  background-color: var(--sklearn-color-unfitted-level-2);\n",
       "}\n",
       "\n",
       "/* Label box, darken color on hover, fitted */\n",
       "#sk-container-id-1 div.sk-label.fitted:hover label.sk-toggleable__label.fitted {\n",
       "  color: var(--sklearn-color-text);\n",
       "  background-color: var(--sklearn-color-fitted-level-2);\n",
       "}\n",
       "\n",
       "/* Estimator label */\n",
       "\n",
       "#sk-container-id-1 div.sk-label label {\n",
       "  font-family: monospace;\n",
       "  font-weight: bold;\n",
       "  display: inline-block;\n",
       "  line-height: 1.2em;\n",
       "}\n",
       "\n",
       "#sk-container-id-1 div.sk-label-container {\n",
       "  text-align: center;\n",
       "}\n",
       "\n",
       "/* Estimator-specific */\n",
       "#sk-container-id-1 div.sk-estimator {\n",
       "  font-family: monospace;\n",
       "  border: 1px dotted var(--sklearn-color-border-box);\n",
       "  border-radius: 0.25em;\n",
       "  box-sizing: border-box;\n",
       "  margin-bottom: 0.5em;\n",
       "  /* unfitted */\n",
       "  background-color: var(--sklearn-color-unfitted-level-0);\n",
       "}\n",
       "\n",
       "#sk-container-id-1 div.sk-estimator.fitted {\n",
       "  /* fitted */\n",
       "  background-color: var(--sklearn-color-fitted-level-0);\n",
       "}\n",
       "\n",
       "/* on hover */\n",
       "#sk-container-id-1 div.sk-estimator:hover {\n",
       "  /* unfitted */\n",
       "  background-color: var(--sklearn-color-unfitted-level-2);\n",
       "}\n",
       "\n",
       "#sk-container-id-1 div.sk-estimator.fitted:hover {\n",
       "  /* fitted */\n",
       "  background-color: var(--sklearn-color-fitted-level-2);\n",
       "}\n",
       "\n",
       "/* Specification for estimator info (e.g. \"i\" and \"?\") */\n",
       "\n",
       "/* Common style for \"i\" and \"?\" */\n",
       "\n",
       ".sk-estimator-doc-link,\n",
       "a:link.sk-estimator-doc-link,\n",
       "a:visited.sk-estimator-doc-link {\n",
       "  float: right;\n",
       "  font-size: smaller;\n",
       "  line-height: 1em;\n",
       "  font-family: monospace;\n",
       "  background-color: var(--sklearn-color-background);\n",
       "  border-radius: 1em;\n",
       "  height: 1em;\n",
       "  width: 1em;\n",
       "  text-decoration: none !important;\n",
       "  margin-left: 1ex;\n",
       "  /* unfitted */\n",
       "  border: var(--sklearn-color-unfitted-level-1) 1pt solid;\n",
       "  color: var(--sklearn-color-unfitted-level-1);\n",
       "}\n",
       "\n",
       ".sk-estimator-doc-link.fitted,\n",
       "a:link.sk-estimator-doc-link.fitted,\n",
       "a:visited.sk-estimator-doc-link.fitted {\n",
       "  /* fitted */\n",
       "  border: var(--sklearn-color-fitted-level-1) 1pt solid;\n",
       "  color: var(--sklearn-color-fitted-level-1);\n",
       "}\n",
       "\n",
       "/* On hover */\n",
       "div.sk-estimator:hover .sk-estimator-doc-link:hover,\n",
       ".sk-estimator-doc-link:hover,\n",
       "div.sk-label-container:hover .sk-estimator-doc-link:hover,\n",
       ".sk-estimator-doc-link:hover {\n",
       "  /* unfitted */\n",
       "  background-color: var(--sklearn-color-unfitted-level-3);\n",
       "  color: var(--sklearn-color-background);\n",
       "  text-decoration: none;\n",
       "}\n",
       "\n",
       "div.sk-estimator.fitted:hover .sk-estimator-doc-link.fitted:hover,\n",
       ".sk-estimator-doc-link.fitted:hover,\n",
       "div.sk-label-container:hover .sk-estimator-doc-link.fitted:hover,\n",
       ".sk-estimator-doc-link.fitted:hover {\n",
       "  /* fitted */\n",
       "  background-color: var(--sklearn-color-fitted-level-3);\n",
       "  color: var(--sklearn-color-background);\n",
       "  text-decoration: none;\n",
       "}\n",
       "\n",
       "/* Span, style for the box shown on hovering the info icon */\n",
       ".sk-estimator-doc-link span {\n",
       "  display: none;\n",
       "  z-index: 9999;\n",
       "  position: relative;\n",
       "  font-weight: normal;\n",
       "  right: .2ex;\n",
       "  padding: .5ex;\n",
       "  margin: .5ex;\n",
       "  width: min-content;\n",
       "  min-width: 20ex;\n",
       "  max-width: 50ex;\n",
       "  color: var(--sklearn-color-text);\n",
       "  box-shadow: 2pt 2pt 4pt #999;\n",
       "  /* unfitted */\n",
       "  background: var(--sklearn-color-unfitted-level-0);\n",
       "  border: .5pt solid var(--sklearn-color-unfitted-level-3);\n",
       "}\n",
       "\n",
       ".sk-estimator-doc-link.fitted span {\n",
       "  /* fitted */\n",
       "  background: var(--sklearn-color-fitted-level-0);\n",
       "  border: var(--sklearn-color-fitted-level-3);\n",
       "}\n",
       "\n",
       ".sk-estimator-doc-link:hover span {\n",
       "  display: block;\n",
       "}\n",
       "\n",
       "/* \"?\"-specific style due to the `<a>` HTML tag */\n",
       "\n",
       "#sk-container-id-1 a.estimator_doc_link {\n",
       "  float: right;\n",
       "  font-size: 1rem;\n",
       "  line-height: 1em;\n",
       "  font-family: monospace;\n",
       "  background-color: var(--sklearn-color-background);\n",
       "  border-radius: 1rem;\n",
       "  height: 1rem;\n",
       "  width: 1rem;\n",
       "  text-decoration: none;\n",
       "  /* unfitted */\n",
       "  color: var(--sklearn-color-unfitted-level-1);\n",
       "  border: var(--sklearn-color-unfitted-level-1) 1pt solid;\n",
       "}\n",
       "\n",
       "#sk-container-id-1 a.estimator_doc_link.fitted {\n",
       "  /* fitted */\n",
       "  border: var(--sklearn-color-fitted-level-1) 1pt solid;\n",
       "  color: var(--sklearn-color-fitted-level-1);\n",
       "}\n",
       "\n",
       "/* On hover */\n",
       "#sk-container-id-1 a.estimator_doc_link:hover {\n",
       "  /* unfitted */\n",
       "  background-color: var(--sklearn-color-unfitted-level-3);\n",
       "  color: var(--sklearn-color-background);\n",
       "  text-decoration: none;\n",
       "}\n",
       "\n",
       "#sk-container-id-1 a.estimator_doc_link.fitted:hover {\n",
       "  /* fitted */\n",
       "  background-color: var(--sklearn-color-fitted-level-3);\n",
       "}\n",
       "</style><div id=\"sk-container-id-1\" class=\"sk-top-container\"><div class=\"sk-text-repr-fallback\"><pre>Pipeline(steps=[(&#x27;preprocessor&#x27;,\n",
       "                 ColumnTransformer(transformers=[(&#x27;num&#x27;, &#x27;passthrough&#x27;,\n",
       "                                                  [&#x27;ENERGY_CONSUMPTION_CURRENT&#x27;,\n",
       "                                                   &#x27;LIGHTING_COST_CURRENT&#x27;,\n",
       "                                                   &#x27;HEATING_COST_CURRENT&#x27;,\n",
       "                                                   &#x27;TOTAL_FLOOR_AREA&#x27;,\n",
       "                                                   &#x27;HOT_WATER_COST_CURRENT&#x27;,\n",
       "                                                   &#x27;LOW_ENERGY_LIGHTING&#x27;,\n",
       "                                                   &#x27;NUMBER_OPEN_FIREPLACES&#x27;,\n",
       "                                                   &#x27;WIND_TURBINE_COUNT&#x27;]),\n",
       "                                                 (&#x27;cat&#x27;,\n",
       "                                                  Pipeline(steps=[(&#x27;onehot&#x27;,\n",
       "                                                                   OneHotEncoder(handle_unknown=&#x27;ignore&#x27;))])...\n",
       "                                                   &#x27;GLAZED_TYPE&#x27;, &#x27;GLAZED_AREA&#x27;,\n",
       "                                                   &#x27;HOTWATER_DESCRIPTION&#x27;,\n",
       "                                                   &#x27;FLOOR_DESCRIPTION&#x27;,\n",
       "                                                   &#x27;WINDOWS_DESCRIPTION&#x27;,\n",
       "                                                   &#x27;WALLS_DESCRIPTION&#x27;,\n",
       "                                                   &#x27;ROOF_DESCRIPTION&#x27;,\n",
       "                                                   &#x27;MAINHEAT_DESCRIPTION&#x27;,\n",
       "                                                   &#x27;MAINHEATCONT_DESCRIPTION&#x27;,\n",
       "                                                   &#x27;LIGHTING_DESCRIPTION&#x27;,\n",
       "                                                   &#x27;MAIN_FUEL&#x27;,\n",
       "                                                   &#x27;MECHANICAL_VENTILATION&#x27;,\n",
       "                                                   &#x27;CONSTITUENCY_LABEL&#x27;,\n",
       "                                                   &#x27;POSTTOWN&#x27;,\n",
       "                                                   &#x27;CONSTRUCTION_AGE_BAND&#x27;,\n",
       "                                                   &#x27;TENURE&#x27;])])),\n",
       "                (&#x27;classifier&#x27;, GradientBoostingClassifier(random_state=42))])</pre><b>In a Jupyter environment, please rerun this cell to show the HTML representation or trust the notebook. <br />On GitHub, the HTML representation is unable to render, please try loading this page with nbviewer.org.</b></div><div class=\"sk-container\" hidden><div class=\"sk-item sk-dashed-wrapped\"><div class=\"sk-label-container\"><div class=\"sk-label fitted sk-toggleable\"><input class=\"sk-toggleable__control sk-hidden--visually\" id=\"sk-estimator-id-1\" type=\"checkbox\" ><label for=\"sk-estimator-id-1\" class=\"sk-toggleable__label fitted sk-toggleable__label-arrow fitted\">&nbsp;&nbsp;Pipeline<a class=\"sk-estimator-doc-link fitted\" rel=\"noreferrer\" target=\"_blank\" href=\"https://scikit-learn.org/1.4/modules/generated/sklearn.pipeline.Pipeline.html\">?<span>Documentation for Pipeline</span></a><span class=\"sk-estimator-doc-link fitted\">i<span>Fitted</span></span></label><div class=\"sk-toggleable__content fitted\"><pre>Pipeline(steps=[(&#x27;preprocessor&#x27;,\n",
       "                 ColumnTransformer(transformers=[(&#x27;num&#x27;, &#x27;passthrough&#x27;,\n",
       "                                                  [&#x27;ENERGY_CONSUMPTION_CURRENT&#x27;,\n",
       "                                                   &#x27;LIGHTING_COST_CURRENT&#x27;,\n",
       "                                                   &#x27;HEATING_COST_CURRENT&#x27;,\n",
       "                                                   &#x27;TOTAL_FLOOR_AREA&#x27;,\n",
       "                                                   &#x27;HOT_WATER_COST_CURRENT&#x27;,\n",
       "                                                   &#x27;LOW_ENERGY_LIGHTING&#x27;,\n",
       "                                                   &#x27;NUMBER_OPEN_FIREPLACES&#x27;,\n",
       "                                                   &#x27;WIND_TURBINE_COUNT&#x27;]),\n",
       "                                                 (&#x27;cat&#x27;,\n",
       "                                                  Pipeline(steps=[(&#x27;onehot&#x27;,\n",
       "                                                                   OneHotEncoder(handle_unknown=&#x27;ignore&#x27;))])...\n",
       "                                                   &#x27;GLAZED_TYPE&#x27;, &#x27;GLAZED_AREA&#x27;,\n",
       "                                                   &#x27;HOTWATER_DESCRIPTION&#x27;,\n",
       "                                                   &#x27;FLOOR_DESCRIPTION&#x27;,\n",
       "                                                   &#x27;WINDOWS_DESCRIPTION&#x27;,\n",
       "                                                   &#x27;WALLS_DESCRIPTION&#x27;,\n",
       "                                                   &#x27;ROOF_DESCRIPTION&#x27;,\n",
       "                                                   &#x27;MAINHEAT_DESCRIPTION&#x27;,\n",
       "                                                   &#x27;MAINHEATCONT_DESCRIPTION&#x27;,\n",
       "                                                   &#x27;LIGHTING_DESCRIPTION&#x27;,\n",
       "                                                   &#x27;MAIN_FUEL&#x27;,\n",
       "                                                   &#x27;MECHANICAL_VENTILATION&#x27;,\n",
       "                                                   &#x27;CONSTITUENCY_LABEL&#x27;,\n",
       "                                                   &#x27;POSTTOWN&#x27;,\n",
       "                                                   &#x27;CONSTRUCTION_AGE_BAND&#x27;,\n",
       "                                                   &#x27;TENURE&#x27;])])),\n",
       "                (&#x27;classifier&#x27;, GradientBoostingClassifier(random_state=42))])</pre></div> </div></div><div class=\"sk-serial\"><div class=\"sk-item sk-dashed-wrapped\"><div class=\"sk-label-container\"><div class=\"sk-label fitted sk-toggleable\"><input class=\"sk-toggleable__control sk-hidden--visually\" id=\"sk-estimator-id-2\" type=\"checkbox\" ><label for=\"sk-estimator-id-2\" class=\"sk-toggleable__label fitted sk-toggleable__label-arrow fitted\">&nbsp;preprocessor: ColumnTransformer<a class=\"sk-estimator-doc-link fitted\" rel=\"noreferrer\" target=\"_blank\" href=\"https://scikit-learn.org/1.4/modules/generated/sklearn.compose.ColumnTransformer.html\">?<span>Documentation for preprocessor: ColumnTransformer</span></a></label><div class=\"sk-toggleable__content fitted\"><pre>ColumnTransformer(transformers=[(&#x27;num&#x27;, &#x27;passthrough&#x27;,\n",
       "                                 [&#x27;ENERGY_CONSUMPTION_CURRENT&#x27;,\n",
       "                                  &#x27;LIGHTING_COST_CURRENT&#x27;,\n",
       "                                  &#x27;HEATING_COST_CURRENT&#x27;, &#x27;TOTAL_FLOOR_AREA&#x27;,\n",
       "                                  &#x27;HOT_WATER_COST_CURRENT&#x27;,\n",
       "                                  &#x27;LOW_ENERGY_LIGHTING&#x27;,\n",
       "                                  &#x27;NUMBER_OPEN_FIREPLACES&#x27;,\n",
       "                                  &#x27;WIND_TURBINE_COUNT&#x27;]),\n",
       "                                (&#x27;cat&#x27;,\n",
       "                                 Pipeline(steps=[(&#x27;onehot&#x27;,\n",
       "                                                  OneHotEncoder(handle_unknown=&#x27;ignore&#x27;))]),\n",
       "                                 [&#x27;POSTCODE&#x27;, &#x27;PROPERTY_TYPE&#x27;, &#x27;CONSTITUENCY&#x27;,\n",
       "                                  &#x27;ENERGY_TARIFF&#x27;, &#x27;GLAZED_TYPE&#x27;, &#x27;GLAZED_AREA&#x27;,\n",
       "                                  &#x27;HOTWATER_DESCRIPTION&#x27;, &#x27;FLOOR_DESCRIPTION&#x27;,\n",
       "                                  &#x27;WINDOWS_DESCRIPTION&#x27;, &#x27;WALLS_DESCRIPTION&#x27;,\n",
       "                                  &#x27;ROOF_DESCRIPTION&#x27;, &#x27;MAINHEAT_DESCRIPTION&#x27;,\n",
       "                                  &#x27;MAINHEATCONT_DESCRIPTION&#x27;,\n",
       "                                  &#x27;LIGHTING_DESCRIPTION&#x27;, &#x27;MAIN_FUEL&#x27;,\n",
       "                                  &#x27;MECHANICAL_VENTILATION&#x27;,\n",
       "                                  &#x27;CONSTITUENCY_LABEL&#x27;, &#x27;POSTTOWN&#x27;,\n",
       "                                  &#x27;CONSTRUCTION_AGE_BAND&#x27;, &#x27;TENURE&#x27;])])</pre></div> </div></div><div class=\"sk-parallel\"><div class=\"sk-parallel-item\"><div class=\"sk-item\"><div class=\"sk-label-container\"><div class=\"sk-label fitted sk-toggleable\"><input class=\"sk-toggleable__control sk-hidden--visually\" id=\"sk-estimator-id-3\" type=\"checkbox\" ><label for=\"sk-estimator-id-3\" class=\"sk-toggleable__label fitted sk-toggleable__label-arrow fitted\">num</label><div class=\"sk-toggleable__content fitted\"><pre>[&#x27;ENERGY_CONSUMPTION_CURRENT&#x27;, &#x27;LIGHTING_COST_CURRENT&#x27;, &#x27;HEATING_COST_CURRENT&#x27;, &#x27;TOTAL_FLOOR_AREA&#x27;, &#x27;HOT_WATER_COST_CURRENT&#x27;, &#x27;LOW_ENERGY_LIGHTING&#x27;, &#x27;NUMBER_OPEN_FIREPLACES&#x27;, &#x27;WIND_TURBINE_COUNT&#x27;]</pre></div> </div></div><div class=\"sk-serial\"><div class=\"sk-item\"><div class=\"sk-estimator fitted sk-toggleable\"><input class=\"sk-toggleable__control sk-hidden--visually\" id=\"sk-estimator-id-4\" type=\"checkbox\" ><label for=\"sk-estimator-id-4\" class=\"sk-toggleable__label fitted sk-toggleable__label-arrow fitted\">passthrough</label><div class=\"sk-toggleable__content fitted\"><pre>passthrough</pre></div> </div></div></div></div></div><div class=\"sk-parallel-item\"><div class=\"sk-item\"><div class=\"sk-label-container\"><div class=\"sk-label fitted sk-toggleable\"><input class=\"sk-toggleable__control sk-hidden--visually\" id=\"sk-estimator-id-5\" type=\"checkbox\" ><label for=\"sk-estimator-id-5\" class=\"sk-toggleable__label fitted sk-toggleable__label-arrow fitted\">cat</label><div class=\"sk-toggleable__content fitted\"><pre>[&#x27;POSTCODE&#x27;, &#x27;PROPERTY_TYPE&#x27;, &#x27;CONSTITUENCY&#x27;, &#x27;ENERGY_TARIFF&#x27;, &#x27;GLAZED_TYPE&#x27;, &#x27;GLAZED_AREA&#x27;, &#x27;HOTWATER_DESCRIPTION&#x27;, &#x27;FLOOR_DESCRIPTION&#x27;, &#x27;WINDOWS_DESCRIPTION&#x27;, &#x27;WALLS_DESCRIPTION&#x27;, &#x27;ROOF_DESCRIPTION&#x27;, &#x27;MAINHEAT_DESCRIPTION&#x27;, &#x27;MAINHEATCONT_DESCRIPTION&#x27;, &#x27;LIGHTING_DESCRIPTION&#x27;, &#x27;MAIN_FUEL&#x27;, &#x27;MECHANICAL_VENTILATION&#x27;, &#x27;CONSTITUENCY_LABEL&#x27;, &#x27;POSTTOWN&#x27;, &#x27;CONSTRUCTION_AGE_BAND&#x27;, &#x27;TENURE&#x27;]</pre></div> </div></div><div class=\"sk-serial\"><div class=\"sk-item\"><div class=\"sk-serial\"><div class=\"sk-item\"><div class=\"sk-estimator fitted sk-toggleable\"><input class=\"sk-toggleable__control sk-hidden--visually\" id=\"sk-estimator-id-6\" type=\"checkbox\" ><label for=\"sk-estimator-id-6\" class=\"sk-toggleable__label fitted sk-toggleable__label-arrow fitted\">&nbsp;OneHotEncoder<a class=\"sk-estimator-doc-link fitted\" rel=\"noreferrer\" target=\"_blank\" href=\"https://scikit-learn.org/1.4/modules/generated/sklearn.preprocessing.OneHotEncoder.html\">?<span>Documentation for OneHotEncoder</span></a></label><div class=\"sk-toggleable__content fitted\"><pre>OneHotEncoder(handle_unknown=&#x27;ignore&#x27;)</pre></div> </div></div></div></div></div></div></div></div></div><div class=\"sk-item\"><div class=\"sk-estimator fitted sk-toggleable\"><input class=\"sk-toggleable__control sk-hidden--visually\" id=\"sk-estimator-id-7\" type=\"checkbox\" ><label for=\"sk-estimator-id-7\" class=\"sk-toggleable__label fitted sk-toggleable__label-arrow fitted\">&nbsp;GradientBoostingClassifier<a class=\"sk-estimator-doc-link fitted\" rel=\"noreferrer\" target=\"_blank\" href=\"https://scikit-learn.org/1.4/modules/generated/sklearn.ensemble.GradientBoostingClassifier.html\">?<span>Documentation for GradientBoostingClassifier</span></a></label><div class=\"sk-toggleable__content fitted\"><pre>GradientBoostingClassifier(random_state=42)</pre></div> </div></div></div></div></div></div>"
      ],
      "text/plain": [
       "Pipeline(steps=[('preprocessor',\n",
       "                 ColumnTransformer(transformers=[('num', 'passthrough',\n",
       "                                                  ['ENERGY_CONSUMPTION_CURRENT',\n",
       "                                                   'LIGHTING_COST_CURRENT',\n",
       "                                                   'HEATING_COST_CURRENT',\n",
       "                                                   'TOTAL_FLOOR_AREA',\n",
       "                                                   'HOT_WATER_COST_CURRENT',\n",
       "                                                   'LOW_ENERGY_LIGHTING',\n",
       "                                                   'NUMBER_OPEN_FIREPLACES',\n",
       "                                                   'WIND_TURBINE_COUNT']),\n",
       "                                                 ('cat',\n",
       "                                                  Pipeline(steps=[('onehot',\n",
       "                                                                   OneHotEncoder(handle_unknown='ignore'))])...\n",
       "                                                   'GLAZED_TYPE', 'GLAZED_AREA',\n",
       "                                                   'HOTWATER_DESCRIPTION',\n",
       "                                                   'FLOOR_DESCRIPTION',\n",
       "                                                   'WINDOWS_DESCRIPTION',\n",
       "                                                   'WALLS_DESCRIPTION',\n",
       "                                                   'ROOF_DESCRIPTION',\n",
       "                                                   'MAINHEAT_DESCRIPTION',\n",
       "                                                   'MAINHEATCONT_DESCRIPTION',\n",
       "                                                   'LIGHTING_DESCRIPTION',\n",
       "                                                   'MAIN_FUEL',\n",
       "                                                   'MECHANICAL_VENTILATION',\n",
       "                                                   'CONSTITUENCY_LABEL',\n",
       "                                                   'POSTTOWN',\n",
       "                                                   'CONSTRUCTION_AGE_BAND',\n",
       "                                                   'TENURE'])])),\n",
       "                ('classifier', GradientBoostingClassifier(random_state=42))])"
      ]
     },
     "execution_count": 45,
     "metadata": {},
     "output_type": "execute_result"
    }
   ],
   "source": [
    "pipeline.fit(X_train, y_train)"
   ]
  },
  {
   "cell_type": "markdown",
   "id": "0cae9a59-468f-48de-a529-bece1863eb1d",
   "metadata": {},
   "source": [
    "- Make a prediction for test data"
   ]
  },
  {
   "cell_type": "code",
   "execution_count": 47,
   "id": "65129ac9-33c4-4a89-9614-598bb6ef898b",
   "metadata": {},
   "outputs": [],
   "source": [
    "y_predict=pipeline.predict(X_test)"
   ]
  },
  {
   "cell_type": "markdown",
   "id": "ae47789d-ca68-468a-b5ed-e40cf54d82ea",
   "metadata": {},
   "source": [
    "- Evaluate predictions"
   ]
  },
  {
   "cell_type": "code",
   "execution_count": 48,
   "id": "592200f1-d69d-4d07-be95-8482dec7393d",
   "metadata": {},
   "outputs": [
    {
     "name": "stdout",
     "output_type": "stream",
     "text": [
      "Accuracy: 88.69%\n"
     ]
    }
   ],
   "source": [
    "accuracy = accuracy_score(y_test, y_predict)\n",
    "print(\"Accuracy: %.2f%%\" % (accuracy * 100.0))"
   ]
  }
 ],
 "metadata": {
  "kernelspec": {
   "display_name": "Python 3 (ipykernel)",
   "language": "python",
   "name": "python3"
  },
  "language_info": {
   "codemirror_mode": {
    "name": "ipython",
    "version": 3
   },
   "file_extension": ".py",
   "mimetype": "text/x-python",
   "name": "python",
   "nbconvert_exporter": "python",
   "pygments_lexer": "ipython3",
   "version": "3.11.6"
  }
 },
 "nbformat": 4,
 "nbformat_minor": 5
}
